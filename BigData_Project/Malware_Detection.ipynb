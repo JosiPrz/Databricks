{
 "cells": [
  {
   "cell_type": "code",
   "execution_count": 0,
   "metadata": {
    "application/vnd.databricks.v1+cell": {
     "cellMetadata": {
      "byteLimit": 2048000,
      "rowLimit": 10000
     },
     "inputWidgets": {},
     "nuid": "8d648ab5-ba64-42e2-8717-dee855846ce4",
     "showTitle": false,
     "tableResultSettingsMap": {},
     "title": ""
    }
   },
   "outputs": [],
   "source": [
    "# %pip install umap matplotlib\n",
    "# %restart_python "
   ]
  },
  {
   "cell_type": "code",
   "execution_count": 0,
   "metadata": {
    "application/vnd.databricks.v1+cell": {
     "cellMetadata": {
      "byteLimit": 2048000,
      "rowLimit": 10000
     },
     "inputWidgets": {},
     "nuid": "793796c4-9150-410d-acf5-069c250d984c",
     "showTitle": false,
     "tableResultSettingsMap": {},
     "title": ""
    }
   },
   "outputs": [],
   "source": [
    "import pandas as pd\n",
    "import numpy as np\n",
    "from pyspark.sql.functions import col, sum as _sum\n",
    "from pyspark.sql.types import *\n",
    "from pyspark.sql import functions as F\n",
    "import matplotlib.pyplot as plt\n",
    "from seaborn import color_palette\n",
    "import seaborn as sns\n",
    "from sklearn.preprocessing import StandardScaler"
   ]
  },
  {
   "cell_type": "code",
   "execution_count": 0,
   "metadata": {
    "application/vnd.databricks.v1+cell": {
     "cellMetadata": {
      "byteLimit": 2048000,
      "rowLimit": 10000
     },
     "inputWidgets": {},
     "nuid": "c39be1cd-b9a8-4c75-8855-c4cdba2550c6",
     "showTitle": false,
     "tableResultSettingsMap": {},
     "title": ""
    }
   },
   "outputs": [],
   "source": [
    "## Get data \n",
    "df = spark.sql('''\n",
    "               select * from default.malware_detection\n",
    "               ''')\n",
    "\n",
    "## Columns should be renamed so that there will be no error regarding feature names\n",
    "df = df.withColumnsRenamed({\"id.orig_h\": \"id_orig_h\",\n",
    "                      \"id.orig_p\": \"id_orig_p\",\n",
    "                      \"id.resp_h\": \"id_resp_h\",\n",
    "                      \"id.resp_p\": \"id_resp_p\"})"
   ]
  },
  {
   "cell_type": "code",
   "execution_count": 0,
   "metadata": {
    "application/vnd.databricks.v1+cell": {
     "cellMetadata": {
      "byteLimit": 2048000,
      "rowLimit": 10000
     },
     "inputWidgets": {},
     "nuid": "b8a4811f-2c7d-44fc-b6fb-2367d86fec14",
     "showTitle": false,
     "tableResultSettingsMap": {},
     "title": ""
    }
   },
   "outputs": [],
   "source": [
    "## Check top 5 most common values in each column to detect nulls or no relevant values\n",
    "for col in df.columns:\n",
    "    df.groupBy(col).count().show(5)\n",
    "    print(\"-\"*100)\n"
   ]
  },
  {
   "cell_type": "code",
   "execution_count": 0,
   "metadata": {
    "application/vnd.databricks.v1+cell": {
     "cellMetadata": {
      "byteLimit": 2048000,
      "rowLimit": 10000
     },
     "inputWidgets": {},
     "nuid": "eb108b42-d5c4-4bdc-b1eb-1692d30441da",
     "showTitle": false,
     "tableResultSettingsMap": {},
     "title": ""
    }
   },
   "outputs": [],
   "source": [
    "# The data seems to have unrelevant values (null values appear with string \"NULL\" or \"-\"), these columns can be dropped\n",
    "\n",
    "cols = [\"uid\", \"id_orig_h\", \"id_orig_p\", \"id_resp_h\", \"id_resp_p\", \"local_orig\", \n",
    "                \"local_resp\", \"service\", \"history\",\"tunnel_parents\"]\n",
    "\n",
    "df = df.drop(*cols)\n",
    "\n",
    "# df.display()"
   ]
  },
  {
   "cell_type": "code",
   "execution_count": 0,
   "metadata": {
    "application/vnd.databricks.v1+cell": {
     "cellMetadata": {
      "byteLimit": 2048000,
      "rowLimit": 10000
     },
     "inputWidgets": {},
     "nuid": "f35d98d7-1988-42b3-8398-22621c9ca9a1",
     "showTitle": false,
     "tableResultSettingsMap": {},
     "title": ""
    }
   },
   "outputs": [],
   "source": [
    "null_counts = df.select([\n",
    "    F.count(F.when(F.col(c).isNull(), c)).alias(c) \n",
    "    for c in df.columns\n",
    "])\n",
    "\n",
    "null_counts.show()"
   ]
  },
  {
   "cell_type": "code",
   "execution_count": 0,
   "metadata": {
    "application/vnd.databricks.v1+cell": {
     "cellMetadata": {
      "byteLimit": 2048000,
      "rowLimit": 10000
     },
     "collapsed": true,
     "inputWidgets": {},
     "nuid": "7ec3066e-754d-4e8e-9698-f8fb3b46af44",
     "showTitle": false,
     "tableResultSettingsMap": {},
     "title": ""
    }
   },
   "outputs": [],
   "source": [
    "class AnalisisDatosExploratorio:\n",
    "    def __init__(self, df=None, path=None, num=None):\n",
    "        if df is not None:\n",
    "            self.__df = df\n",
    "        else:\n",
    "            self.__df = self.__cargarDatos(path, num)\n",
    "    @property\n",
    "    def df(self):\n",
    "        return self.__df\n",
    "\n",
    "    @df.setter\n",
    "    def df(self, p_df):\n",
    "        self.__df = p_df\n",
    "\n",
    "    def analisisNumerico(self):\n",
    "        self.__df = self.__df.select_dtypes(include=[\"number\"])\n",
    "\n",
    "    def analisisCompleto(self):\n",
    "        self.__df = pd.get_dummies(self.__df)\n",
    "\n",
    "    def __cargarDatos(self, path, num):\n",
    "        if num == 1:\n",
    "            df = pd.read_csv(path,\n",
    "                             sep=\",\",\n",
    "                             decimal=\".\",\n",
    "                             index_col=0)\n",
    "        elif num == 2:\n",
    "            df = pd.read_csv(path,\n",
    "                             sep=\";\",\n",
    "                             decimal=\".\")\n",
    "        else:\n",
    "            raise ValueError(\"Invalid value for 'num' parameter.\")\n",
    "\n",
    "        non_numeric_cols = df.select_dtypes(exclude=[\"number\"]).columns\n",
    "        for col in non_numeric_cols:\n",
    "            if df[col].dtype == \"object\":\n",
    "                df[col] = pd.Categorical(df[col])\n",
    "                df[col] = df[col].cat.codes\n",
    "\n",
    "        return df\n",
    "\n",
    "    def analisis(self):\n",
    "        self.analisisNumerico()  # Exclude non-numeric columns\n",
    "        self.__df = pd.DataFrame(StandardScaler().fit_transform(self.__df), columns=self.__df.columns,\n",
    "                                 index=self.__df.index)\n",
    "        print(\"Dimensiones:\", self.__df.shape)\n",
    "        print(self.__df.head())\n",
    "        print(self.__df.describe())\n",
    "        self.__df.dropna().describe()\n",
    "        self.__df.mean(numeric_only=True)\n",
    "        self.__df.median(numeric_only=True)\n",
    "        self.__df.std(numeric_only=True, ddof=0)\n",
    "        self.__df.max(numeric_only=True)\n",
    "        self.__df.min(numeric_only=True)\n",
    "        self.__df.quantile(np.array([0, .33, .50, .75, 1]), numeric_only=True)\n",
    "        self.__graficosBoxplot()\n",
    "        self.__funcionDensidad()\n",
    "        self.__histograma()\n",
    "        self.__correlaciones()\n",
    "        self.__graficoDeCorrelacion()\n",
    "\n",
    "    def __graficosBoxplot(self):\n",
    "        fig, ax = plt.subplots(nrows=1, ncols=1, figsize=(15, 8), dpi=200)\n",
    "        boxplots = self.__df.boxplot(return_type='axes', ax=ax)\n",
    "        plt.show()\n",
    "\n",
    "    def __funcionDensidad(self):\n",
    "        fig, ax = plt.subplots(nrows=1, ncols=1, figsize=(12, 8), dpi=200)\n",
    "        densidad = self.__df[self.__df.columns].plot(kind='density', ax=ax)\n",
    "        plt.show()\n",
    "\n",
    "    def __histograma(self):\n",
    "        fig, ax = plt.subplots(nrows=1, ncols=1, figsize=(10, 6), dpi=200)\n",
    "        densidad = self.__df[self.__df.columns].plot(kind='hist', ax=ax)\n",
    "        plt.show()\n",
    "\n",
    "    def __correlaciones(self):\n",
    "        corr = self.__df.corr(numeric_only=True)\n",
    "        print(corr)\n",
    "\n",
    "    def __graficoDeCorrelacion(self):\n",
    "        fig, ax = plt.subplots(figsize=(12, 8), dpi=150)\n",
    "        paleta = sns.diverging_palette(220, 10, as_cmap=True).reversed()\n",
    "        corr = self.__df.corr(numeric_only=True)\n",
    "        sns.heatmap(corr, vmin=-1, vmax=1, cmap=paleta, square=True, annot=True, ax=ax)\n",
    "        plt.show()\n",
    "\n",
    "    def centroide(num_cluster, datos, clusters):\n",
    "        ind = clusters == num_cluster\n",
    "        return (pd.DataFrame(datos[ind].mean()).T)\n",
    "\n",
    "    def recodificar(col, nuevo_codigo):\n",
    "        col_cod = pd.Series(col, copy=True)\n",
    "        for llave, valor in nuevo_codigo.items():\n",
    "            col_cod.replace(llave, valor, inplace=True)\n",
    "        return col_cod\n",
    "\n",
    "    def bar_plot(centros, labels, scale=False, cluster=None, var=None):\n",
    "        fig, ax = plt.subplots(1, 1, figsize=(15, 8), dpi=200)\n",
    "        centros = np.copy(centros)\n",
    "        if scale:\n",
    "            for col in range(centros.shape[1]):\n",
    "                centros[:, col] = centros[:, col] / max(centros[:, col])\n",
    "        colores = color_palette()\n",
    "        minimo = floor(centros.min()) if floor(centros.min()) < 0 else 0\n",
    "\n",
    "        def inside_plot(valores, labels, titulo):\n",
    "            plt.barh(range(len(valores)), valores, 1 / 1.5, color=colores)\n",
    "            plt.xlim(minimo, ceil(centros.max()))\n",
    "            plt.title(titulo)\n",
    "\n",
    "        if var is not None:\n",
    "            centros = np.array([n[[x in var for x in labels]] for n in centros])\n",
    "            colores = [colores[x % len(colores)] for x, i in enumerate(labels) if i in var]\n",
    "            labels = labels[[x in var for x in labels]]\n",
    "        if cluster is None:\n",
    "            for i in range(centros.shape[0]):\n",
    "                plt.subplot(1, centros.shape[0], i + 1)\n",
    "                inside_plot(centros[i].tolist(), labels, ('Cluster ' + str(i)))\n",
    "                plt.yticks(range(len(labels)), labels) if i == 0 else plt.yticks([])\n",
    "        else:\n",
    "            pos = 1\n",
    "            for i in cluster:\n",
    "                plt.subplot(1, len(cluster), pos)\n",
    "                inside_plot(centros[i].tolist(), labels, ('Cluster ' + str(i)))\n",
    "                plt.yticks(range(len(labels)), labels) if pos == 1 else plt.yticks([])\n",
    "                pos += 1\n",
    "\n",
    "    def bar_plot_detail(centros, columns_names=[], columns_to_plot=[], figsize=(10, 7), dpi=150):\n",
    "        fig, ax = plt.subplots(1, 1, figsize=(15, 8), dpi=200)\n",
    "        numClusters = centros.shape[0]\n",
    "        labels = [\"Cluster \" + str(i) for i in range(numClusters)]\n",
    "        centros = pd.DataFrame(centros, columns=columns_names, index=labels)\n",
    "        plots = len(columns_to_plot) if len(columns_to_plot) != 0 else len(columns_names)\n",
    "        rows, cols = ceil(plots / 2), 2\n",
    "        plt.figure(1, figsize=figsize, dpi=dpi)\n",
    "        plt.subplots_adjust(hspace=1, wspace=0.5)\n",
    "        columns = columns_names\n",
    "        if len(columns_to_plot) > 0:\n",
    "            if type(columns_to_plot[0]) is str:\n",
    "                columns = columns_to_plot\n",
    "            else:\n",
    "                columns = [columns_names[i] for i in columns_to_plot]\n",
    "        var = 0\n",
    "        for numRow in range(rows):\n",
    "            for numCol in range(cols):\n",
    "                if var < plots:\n",
    "                    ax = plt.subplot2grid((rows, cols), (numRow, numCol), colspan=1, rowspan=1)\n",
    "                    sns.barplot(y=labels, x=columns[var], data=centros, ax=ax)\n",
    "                    var += 1\n",
    "\n",
    "    def radar_plot(centros, labels):\n",
    "        fig, ax = plt.subplots(1, 1, figsize=(15, 8), dpi=200)\n",
    "        centros = np.array([((n - min(n)) / (max(n) - min(n)) * 100) if\n",
    "                            max(n) != min(n) else (n / n * 50) for n in centros.T])\n",
    "        angulos = [n / float(len(labels)) * 2 * pi for n in range(len(labels))]\n",
    "        angulos += angulos[:1]\n",
    "        ax = plt.subplot(111, polar=True)\n",
    "        ax.set_theta_offset(pi / 2)\n",
    "        ax.set_theta_direction(-1)\n",
    "        plt.xticks(angulos[:-1], labels)\n",
    "        ax.set_rlabel_position(0)\n",
    "        plt.yticks([10, 20, 30, 40, 50, 60, 70, 80, 90, 100],\n",
    "                   [\"10%\", \"20%\", \"30%\", \"40%\", \"50%\", \"60%\", \"70%\", \"80%\", \"90%\", \"100%\"],\n",
    "                   color=\"grey\", size=8)\n",
    "        plt.ylim(-10, 100)\n",
    "        for i in range(centros.shape[1]):\n",
    "            valores = centros[:, i].tolist()\n",
    "            valores += valores[:1]\n",
    "            ax.plot(angulos, valores, linewidth=1, linestyle='solid',\n",
    "                    label='Cluster ' + str(i))\n",
    "            ax.fill(angulos, valores, alpha=0.3)\n",
    "        plt.legend(loc='upper right', bbox_to_anchor=(0.1, 0.1))\n",
    "\n",
    "    def __str__(self):\n",
    "        return f'AnalisisDatosExploratorio: {self.__df}'\n"
   ]
  },
  {
   "cell_type": "code",
   "execution_count": 0,
   "metadata": {
    "application/vnd.databricks.v1+cell": {
     "cellMetadata": {
      "byteLimit": 2048000,
      "rowLimit": 10000
     },
     "inputWidgets": {},
     "nuid": "d3407087-bf55-4624-83f1-7f59a3c3ae8a",
     "showTitle": false,
     "tableResultSettingsMap": {},
     "title": ""
    }
   },
   "outputs": [],
   "source": [
    "# Then instantiate:\n",
    "eda_df = AnalisisDatosExploratorio(df=df_pandas)\n",
    "\n",
    "eda_df.analisis()"
   ]
  }
 ],
 "metadata": {
  "application/vnd.databricks.v1+notebook": {
   "computePreferences": {
    "hardware": {
     "accelerator": null,
     "gpuPoolId": null,
     "memory": null
    }
   },
   "dashboards": [],
   "environmentMetadata": {
    "base_environment": "",
    "environment_version": "2"
   },
   "inputWidgetPreferences": null,
   "language": "python",
   "notebookMetadata": {
    "pythonIndentUnit": 4
   },
   "notebookName": "Malware_Detection",
   "widgets": {}
  },
  "language_info": {
   "name": "python"
  }
 },
 "nbformat": 4,
 "nbformat_minor": 0
}
