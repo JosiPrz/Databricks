{
 "cells": [
  {
   "cell_type": "code",
   "execution_count": 0,
   "metadata": {
    "application/vnd.databricks.v1+cell": {
     "cellMetadata": {
      "byteLimit": 2048000,
      "rowLimit": 10000
     },
     "collapsed": true,
     "inputWidgets": {},
     "nuid": "97082530-903d-4a2b-833a-1f0cf83a02c2",
     "showTitle": false,
     "tableResultSettingsMap": {},
     "title": ""
    }
   },
   "outputs": [],
   "source": [
    "# Install dependencies\n",
    "%pip install databricks-vectorsearch mlflow openai\n",
    "%pip install --upgrade \"mlflow[databricks]>=3.1\" openai"
   ]
  },
  {
   "cell_type": "code",
   "execution_count": 0,
   "metadata": {
    "application/vnd.databricks.v1+cell": {
     "cellMetadata": {
      "byteLimit": 2048000,
      "rowLimit": 10000
     },
     "collapsed": true,
     "inputWidgets": {},
     "nuid": "b8a1cdae-c4f7-4808-b28f-c757fad457d1",
     "showTitle": false,
     "tableResultSettingsMap": {},
     "title": ""
    }
   },
   "outputs": [],
   "source": [
    "# Restart Python environment\n",
    "dbutils.library.restartPython()"
   ]
  },
  {
   "cell_type": "code",
   "execution_count": 0,
   "metadata": {
    "application/vnd.databricks.v1+cell": {
     "cellMetadata": {
      "byteLimit": 2048000,
      "rowLimit": 10000
     },
     "inputWidgets": {},
     "nuid": "310c1d2d-f7bf-4b13-9a4f-d00f240a03e8",
     "showTitle": false,
     "tableResultSettingsMap": {},
     "title": ""
    }
   },
   "outputs": [],
   "source": [
    "from openai import OpenAI\n",
    "from pyspark.sql.functions import col, concat_ws, udf\n",
    "from pyspark.sql.types import ArrayType, FloatType\n",
    "from databricks.vector_search.client import VectorSearchClient\n",
    "from pyspark.sql import SparkSession\n",
    "# from langchain_databricks import ChatDatabricks\n",
    "from langchain_core.prompts import PromptTemplate"
   ]
  },
  {
   "cell_type": "code",
   "execution_count": 0,
   "metadata": {
    "application/vnd.databricks.v1+cell": {
     "cellMetadata": {
      "byteLimit": 2048000,
      "rowLimit": 10000
     },
     "inputWidgets": {},
     "nuid": "4fbec106-5b66-462e-957c-308f31c29cda",
     "showTitle": false,
     "tableResultSettingsMap": {},
     "title": ""
    }
   },
   "outputs": [],
   "source": [
    "# Step 1: Load the data\n",
    "reviews = spark.read.parquet('/databricks-datasets/amazon/test4K/')\n",
    "reviews_30 = reviews.limit(30)"
   ]
  },
  {
   "cell_type": "code",
   "execution_count": 0,
   "metadata": {
    "application/vnd.databricks.v1+cell": {
     "cellMetadata": {
      "byteLimit": 2048000,
      "rowLimit": 10000
     },
     "inputWidgets": {},
     "nuid": "194347cd-1496-4922-a615-769c1ec812c7",
     "showTitle": false,
     "tableResultSettingsMap": {},
     "title": ""
    }
   },
   "outputs": [],
   "source": [
    "# Step 2: Prepare the data\n",
    "reviews_prepared = reviews_30.withColumn(\n",
    "    \"combined_text\",\n",
    "    concat_ws(\n",
    "        \". \",\n",
    "        col(\"brand\"),\n",
    "        col(\"title\"),\n",
    "        col(\"review\"),\n",
    "        col(\"price\").cast(\"string\"),\n",
    "        col(\"rating\").cast(\"string\")\n",
    "    )\n",
    ").select(\"asin\", \"brand\", \"title\", \"review\", \"price\", \"rating\", \"combined_text\")"
   ]
  },
  {
   "cell_type": "code",
   "execution_count": 0,
   "metadata": {
    "application/vnd.databricks.v1+cell": {
     "cellMetadata": {
      "byteLimit": 2048000,
      "rowLimit": 10000
     },
     "inputWidgets": {},
     "nuid": "ab4c648a-6b1a-486e-851d-f9e2f85488d5",
     "showTitle": false,
     "tableResultSettingsMap": {},
     "title": ""
    }
   },
   "outputs": [],
   "source": [
    "# Step 4: Generate embeddings\n",
    "DATABRICKS_TOKEN = dbutils.notebook.entry_point.getDbutils().notebook().getContext().apiToken().get()\n",
    "\n",
    "def get_embedding(text):\n",
    "    client = OpenAI(\n",
    "        api_key=DATABRICKS_TOKEN,\n",
    "        base_url=\"https://dbc-f41c3a47-b6f9.cloud.databricks.com/serving-endpoints\"\n",
    "    )\n",
    "    response = client.embeddings.create(input=text, model=\"databricks-gte-large-en\")\n",
    "    return response.data[0].embedding\n",
    "\n",
    "get_embeddings_udf = udf(get_embedding, ArrayType(FloatType()))\n",
    "reviews_with_embeddings = reviews_prepared.withColumn(\"embeddings\", get_embeddings_udf(col(\"combined_text\")))\n",
    "\n",
    "# Step 3: Create Delta table\n",
    "table_name = \"workspace.default.amazon_reviews_rag\"\n",
    "reviews_with_embeddings.write.mode(\"overwrite\").format(\"delta\").saveAsTable(table_name)"
   ]
  },
  {
   "cell_type": "code",
   "execution_count": 0,
   "metadata": {
    "application/vnd.databricks.v1+cell": {
     "cellMetadata": {
      "byteLimit": 2048000,
      "rowLimit": 10000
     },
     "inputWidgets": {},
     "nuid": "0cbe3881-324f-44ca-8bf3-10260260ebc4",
     "showTitle": false,
     "tableResultSettingsMap": {},
     "title": ""
    }
   },
   "outputs": [],
   "source": [
    "# Enable Change Data Feed\n",
    "spark = SparkSession.builder.getOrCreate()\n",
    "spark.sql(f\"ALTER TABLE {table_name} SET TBLPROPERTIES (delta.enableChangeDataFeed = true)\")\n",
    "\n",
    "# Step 5: Create Vector Search index\n",
    "vsc = VectorSearchClient(disable_notice = True)\n",
    "endpoint_name = \"vs_endpoint\"\n",
    "index_name = \"workspace.default.amazon_reviews_index\"\n",
    "\n",
    "vsc.create_delta_sync_index(\n",
    "    endpoint_name=endpoint_name,\n",
    "    source_table_name=table_name,\n",
    "    index_name=index_name,\n",
    "    pipeline_type=\"TRIGGERED\",\n",
    "    primary_key=\"brand\",\n",
    "    embedding_dimension=1024,  # Correct dimension for databricks-gte-large-en\n",
    "    embedding_vector_column=\"embeddings\"\n",
    ")\n",
    "\n",
    "# Wait for index to be ready\n",
    "# vsc.wait_for_index_to_be_ready(index_name)\n"
   ]
  },
  {
   "cell_type": "code",
   "execution_count": 0,
   "metadata": {
    "application/vnd.databricks.v1+cell": {
     "cellMetadata": {
      "byteLimit": 2048000,
      "rowLimit": 10000
     },
     "inputWidgets": {},
     "nuid": "abc8ea1b-36a0-47ec-bcd1-6b45e2b5051c",
     "showTitle": false,
     "tableResultSettingsMap": {},
     "title": ""
    }
   },
   "outputs": [],
   "source": [
    "# Steps 6 & 7: Perform semantic queries and generate responses\n",
    "client = OpenAI(\n",
    "    api_key=DATABRICKS_TOKEN,\n",
    "    base_url=\"https://dbc-f41c3a47-b6f9.cloud.databricks.com/serving-endpoints\"\n",
    ")\n",
    "\n",
    "def get_query_embedding(question):\n",
    "    response = client.embeddings.create(input=question, model=\"databricks-gte-large-en\")\n",
    "    return response.data[0].embedding\n",
    "\n",
    "questions = [\n",
    "    \"What is a good lotion for people with dry skin that lasts all day?\",\n",
    "    \"Is there a gluten-free pasta that tastes like regular wheat pasta?\",\n",
    "    \"Is it worth paying a bit more for a better meat grinder?\",\n",
    "    \"Can a USB connector have mechanical issues?\"\n",
    "]\n",
    "\n",
    "for question in questions:\n",
    "    # Generate query embedding\n",
    "    query_vector = get_query_embedding(question)\n",
    "    \n",
    "    # Query Vector Search with query_vector\n",
    "    results = vsc.get_index(index_name = index_name).similarity_search(\n",
    "        query_vector=query_vector,\n",
    "        columns=[\"asin\", \"brand\", \"title\", \"review\", \"price\", \"rating\"],\n",
    "        num_results=3\n",
    "    )\n",
    "    \n",
    "    # Prepare context from search results\n",
    "    context = \"\\n\".join([\n",
    "        f\"Product: {res[2]}\\nReview: {res[3]}\\nBrand: {res[1]}\\nRating: {res[5]}\\nPrice: {res[4]}\"\n",
    "        for res in results['result']['data_array']\n",
    "    ])\n",
    "    \n",
    "    # Generate response using LLM\n",
    "    prompt = f\"Question: {question}\\n\\nContext: {context}\\n\\nAnswer:\"\n",
    "    response = client.chat.completions.create(\n",
    "        model=\"databricks-meta-llama-3-1-8b-instruct\",\n",
    "        messages=[\n",
    "            {\"role\": \"system\", \"content\": \"You are a helpful assistant that answers questions based on provided context.\"},\n",
    "            {\"role\": \"user\", \"content\": prompt}\n",
    "        ],\n",
    "        max_tokens=500\n",
    "    )\n",
    "    \n",
    "    # Display results\n",
    "    print(f\"\\nQuestion: {question}\")\n",
    "    print(\"\\nRetrieved Context:\")\n",
    "    print(context)\n",
    "    print(\"\\nGenerated Response:\")\n",
    "    print(response.choices[0].message.content)"
   ]
  }
 ],
 "metadata": {
  "application/vnd.databricks.v1+notebook": {
   "computePreferences": null,
   "dashboards": [],
   "environmentMetadata": {
    "base_environment": "",
    "environment_version": "2"
   },
   "inputWidgetPreferences": null,
   "language": "python",
   "notebookMetadata": {
    "mostRecentlyExecutedCommandWithImplicitDF": {
     "commandId": 4588986146070266,
     "dataframes": [
      "_sqldf"
     ]
    },
    "pythonIndentUnit": 4
   },
   "notebookName": "RAG - For Amazon Reviews",
   "widgets": {}
  },
  "language_info": {
   "name": "python"
  }
 },
 "nbformat": 4,
 "nbformat_minor": 0
}
